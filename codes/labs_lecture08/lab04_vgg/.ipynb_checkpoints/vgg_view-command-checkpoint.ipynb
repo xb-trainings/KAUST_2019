{
 "cells": [
  {
   "cell_type": "markdown",
   "metadata": {},
   "source": [
    "# Lab 20: VGG architecture - demo\n",
    "\n",
    "# The view module "
   ]
  },
  {
   "cell_type": "code",
   "execution_count": 1,
   "metadata": {},
   "outputs": [],
   "source": [
    "import torch"
   ]
  },
  {
   "cell_type": "code",
   "execution_count": 2,
   "metadata": {},
   "outputs": [
    {
     "name": "stdout",
     "output_type": "stream",
     "text": [
      "tensor([ 0,  1,  2,  3,  4,  5,  6,  7,  8,  9, 10, 11])\n"
     ]
    }
   ],
   "source": [
    "X=torch.arange(12)\n",
    "\n",
    "print(X)"
   ]
  },
  {
   "cell_type": "markdown",
   "metadata": {},
   "source": [
    "### We can specify only one of the dimension and let pytorch figure out the remaining one"
   ]
  },
  {
   "cell_type": "code",
   "execution_count": 3,
   "metadata": {},
   "outputs": [
    {
     "name": "stdout",
     "output_type": "stream",
     "text": [
      "tensor([[ 0,  1],\n",
      "        [ 2,  3],\n",
      "        [ 4,  5],\n",
      "        [ 6,  7],\n",
      "        [ 8,  9],\n",
      "        [10, 11]])\n"
     ]
    }
   ],
   "source": [
    "Y = X.view(6,-1)\n",
    "\n",
    "print(Y)"
   ]
  },
  {
   "cell_type": "code",
   "execution_count": 4,
   "metadata": {},
   "outputs": [
    {
     "name": "stdout",
     "output_type": "stream",
     "text": [
      "tensor([[ 0,  1,  2,  3],\n",
      "        [ 4,  5,  6,  7],\n",
      "        [ 8,  9, 10, 11]])\n"
     ]
    }
   ],
   "source": [
    "Z = X.view(-1,4)\n",
    "\n",
    "print(Z)"
   ]
  },
  {
   "cell_type": "markdown",
   "metadata": {},
   "source": [
    "### Suppose we have a batch of 2 x 2 matrices"
   ]
  },
  {
   "cell_type": "code",
   "execution_count": 5,
   "metadata": {},
   "outputs": [
    {
     "name": "stdout",
     "output_type": "stream",
     "text": [
      "tensor([[[0.4296, 0.8642],\n",
      "         [0.0059, 0.3034]],\n",
      "\n",
      "        [[0.7114, 0.2136],\n",
      "         [0.9865, 0.1709]],\n",
      "\n",
      "        [[0.7692, 0.9214],\n",
      "         [0.1960, 0.2223]],\n",
      "\n",
      "        [[0.6753, 0.2339],\n",
      "         [0.4841, 0.4483]],\n",
      "\n",
      "        [[0.9707, 0.0363],\n",
      "         [0.4583, 0.9899]],\n",
      "\n",
      "        [[0.9265, 0.5112],\n",
      "         [0.9798, 0.4744]],\n",
      "\n",
      "        [[0.7782, 0.5947],\n",
      "         [0.0405, 0.9432]],\n",
      "\n",
      "        [[0.3166, 0.9588],\n",
      "         [0.9426, 0.1614]],\n",
      "\n",
      "        [[0.2448, 0.3916],\n",
      "         [0.7914, 0.0010]],\n",
      "\n",
      "        [[0.2364, 0.1146],\n",
      "         [0.8748, 0.9878]]])\n"
     ]
    }
   ],
   "source": [
    "bs=10\n",
    "\n",
    "X=torch.rand(bs,2,2)\n",
    "\n",
    "print(X)"
   ]
  },
  {
   "cell_type": "markdown",
   "metadata": {},
   "source": [
    "### We can reshape it as a batch of vectors with 4 entries each"
   ]
  },
  {
   "cell_type": "code",
   "execution_count": 6,
   "metadata": {},
   "outputs": [
    {
     "name": "stdout",
     "output_type": "stream",
     "text": [
      "tensor([[0.4296, 0.8642, 0.0059, 0.3034],\n",
      "        [0.7114, 0.2136, 0.9865, 0.1709],\n",
      "        [0.7692, 0.9214, 0.1960, 0.2223],\n",
      "        [0.6753, 0.2339, 0.4841, 0.4483],\n",
      "        [0.9707, 0.0363, 0.4583, 0.9899],\n",
      "        [0.9265, 0.5112, 0.9798, 0.4744],\n",
      "        [0.7782, 0.5947, 0.0405, 0.9432],\n",
      "        [0.3166, 0.9588, 0.9426, 0.1614],\n",
      "        [0.2448, 0.3916, 0.7914, 0.0010],\n",
      "        [0.2364, 0.1146, 0.8748, 0.9878]])\n"
     ]
    }
   ],
   "source": [
    "Y = X.view(-1,4)\n",
    "\n",
    "print(Y)"
   ]
  },
  {
   "cell_type": "code",
   "execution_count": null,
   "metadata": {},
   "outputs": [],
   "source": []
  },
  {
   "cell_type": "code",
   "execution_count": null,
   "metadata": {},
   "outputs": [],
   "source": []
  }
 ],
 "metadata": {
  "kernelspec": {
   "display_name": "Python 3",
   "language": "python",
   "name": "python3"
  },
  "language_info": {
   "codemirror_mode": {
    "name": "ipython",
    "version": 3
   },
   "file_extension": ".py",
   "mimetype": "text/x-python",
   "name": "python",
   "nbconvert_exporter": "python",
   "pygments_lexer": "ipython3",
   "version": "3.6.6"
  }
 },
 "nbformat": 4,
 "nbformat_minor": 2
}
