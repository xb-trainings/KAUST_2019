{
 "cells": [
  {
   "cell_type": "markdown",
   "metadata": {},
   "source": [
    "# Lab 15: Final code -- demo"
   ]
  },
  {
   "cell_type": "code",
   "execution_count": 1,
   "metadata": {},
   "outputs": [],
   "source": [
    "import torch\n",
    "import torch.nn as nn\n",
    "import torch.nn.functional as F\n",
    "import torch.optim as optim\n",
    "from random import randint\n",
    "import time\n",
    "import utils"
   ]
  },
  {
   "cell_type": "markdown",
   "metadata": {},
   "source": [
    "### Download the data"
   ]
  },
  {
   "cell_type": "code",
   "execution_count": 2,
   "metadata": {},
   "outputs": [],
   "source": [
    "train_data=torch.load('../../data/mnist/data/train_data.pt')\n",
    "train_label=torch.load('../../data/mnist/data/train_label.pt')\n",
    "test_data=torch.load('../../data/mnist/data/test_data.pt')\n",
    "test_label=torch.load('../../data/mnist/data/test_label.pt')"
   ]
  },
  {
   "cell_type": "markdown",
   "metadata": {},
   "source": [
    "### Make a one layer net class. "
   ]
  },
  {
   "cell_type": "code",
   "execution_count": 3,
   "metadata": {},
   "outputs": [],
   "source": [
    "class one_layer_net(nn.Module):\n",
    "\n",
    "    def __init__(self, input_size, output_size):\n",
    "        super(one_layer_net , self).__init__()\n",
    "        self.linear_layer = nn.Linear( input_size, output_size , bias=False)\n",
    "        \n",
    "    def forward(self, x):\n",
    "        scores = self.linear_layer(x)\n",
    "        return scores"
   ]
  },
  {
   "cell_type": "markdown",
   "metadata": {},
   "source": [
    "### Build the net"
   ]
  },
  {
   "cell_type": "code",
   "execution_count": 4,
   "metadata": {},
   "outputs": [
    {
     "name": "stdout",
     "output_type": "stream",
     "text": [
      "one_layer_net(\n",
      "  (linear_layer): Linear(in_features=784, out_features=10, bias=False)\n",
      ")\n",
      "There are 7840 (0.01 million) parameters in this neural network\n"
     ]
    }
   ],
   "source": [
    "net=one_layer_net(784,10)\n",
    "\n",
    "print(net)\n",
    "utils.display_num_param(net)"
   ]
  },
  {
   "cell_type": "markdown",
   "metadata": {},
   "source": [
    "### Choose the criterion, optimizer, batchsize, learning rate"
   ]
  },
  {
   "cell_type": "code",
   "execution_count": 5,
   "metadata": {},
   "outputs": [],
   "source": [
    "criterion = nn.CrossEntropyLoss()\n",
    "\n",
    "optimizer=torch.optim.SGD( net.parameters() , lr=0.01 )\n",
    "\n",
    "bs=200"
   ]
  },
  {
   "cell_type": "markdown",
   "metadata": {},
   "source": [
    "### Evaluate on test set"
   ]
  },
  {
   "cell_type": "code",
   "execution_count": 6,
   "metadata": {},
   "outputs": [],
   "source": [
    "def eval_on_test_set():\n",
    "\n",
    "    running_error=0\n",
    "    num_batches=0\n",
    "\n",
    "    for i in range(0,10000,bs):\n",
    "\n",
    "        minibatch_data =  test_data[i:i+bs]\n",
    "        minibatch_label= test_label[i:i+bs]\n",
    "\n",
    "        inputs = minibatch_data.view(bs,784)\n",
    "\n",
    "        scores=net( inputs ) \n",
    "\n",
    "        error = utils.get_error( scores , minibatch_label)\n",
    "\n",
    "        running_error += error.item()\n",
    "\n",
    "        num_batches+=1\n",
    "\n",
    "\n",
    "    total_error = running_error/num_batches\n",
    "    print( 'test error  = ', total_error*100 ,'percent')"
   ]
  },
  {
   "cell_type": "markdown",
   "metadata": {},
   "source": [
    "### Training loop"
   ]
  },
  {
   "cell_type": "code",
   "execution_count": 7,
   "metadata": {},
   "outputs": [
    {
     "name": "stdout",
     "output_type": "stream",
     "text": [
      " \n",
      "epoch= 0 \t time= 0.4190068244934082 \t loss= 1.4375054383277892 \t error= 27.45333325862884 percent\n",
      "test error  =  17.330000281333923 percent\n",
      " \n",
      "epoch= 10 \t time= 4.2662858963012695 \t loss= 0.4390646602710088 \t error= 11.510000149408976 percent\n",
      "test error  =  10.68999981880188 percent\n",
      " \n",
      "epoch= 20 \t time= 8.261295080184937 \t loss= 0.38211278468370435 \t error= 10.345000247160593 percent\n",
      "test error  =  9.760000228881836 percent\n",
      " \n",
      "epoch= 30 \t time= 12.522848844528198 \t loss= 0.3571174940963586 \t error= 9.851666847864788 percent\n",
      "test error  =  9.230000019073486 percent\n",
      " \n",
      "epoch= 40 \t time= 16.712658882141113 \t loss= 0.34217579434315365 \t error= 9.45333331823349 percent\n",
      "test error  =  8.899999976158142 percent\n",
      " \n",
      "epoch= 50 \t time= 20.913805961608887 \t loss= 0.3319168687860171 \t error= 9.191666801770527 percent\n",
      "test error  =  8.789999842643738 percent\n",
      " \n",
      "epoch= 60 \t time= 25.268935918807983 \t loss= 0.3242884318033854 \t error= 9.01499992609024 percent\n",
      "test error  =  8.619999647140503 percent\n",
      " \n",
      "epoch= 70 \t time= 29.611536026000977 \t loss= 0.3183882610499859 \t error= 8.845000008742014 percent\n",
      "test error  =  8.519999742507935 percent\n",
      " \n",
      "epoch= 80 \t time= 33.87374496459961 \t loss= 0.3135502455135187 \t error= 8.686666687329609 percent\n",
      "test error  =  8.3499995470047 percent\n",
      " \n",
      "epoch= 90 \t time= 38.13153886795044 \t loss= 0.30957290758689243 \t error= 8.616666575272879 percent\n",
      "test error  =  8.259999513626099 percent\n",
      " \n",
      "epoch= 100 \t time= 42.27099895477295 \t loss= 0.3061725766460101 \t error= 8.52166662613551 percent\n",
      "test error  =  8.249999642372131 percent\n",
      " \n",
      "epoch= 110 \t time= 46.41051006317139 \t loss= 0.30321091577410697 \t error= 8.421666463216146 percent\n",
      "test error  =  8.149999618530273 percent\n",
      " \n",
      "epoch= 120 \t time= 50.57934784889221 \t loss= 0.3006252551575502 \t error= 8.361666460831959 percent\n",
      "test error  =  8.15999984741211 percent\n",
      " \n",
      "epoch= 130 \t time= 54.77648878097534 \t loss= 0.2983239949742953 \t error= 8.299999912579855 percent\n",
      "test error  =  8.119999885559082 percent\n",
      " \n",
      "epoch= 140 \t time= 59.023273944854736 \t loss= 0.29625756839911144 \t error= 8.239999969800312 percent\n",
      "test error  =  8.059999942779541 percent\n",
      " \n",
      "epoch= 150 \t time= 63.21104192733765 \t loss= 0.2944128733376662 \t error= 8.166666666666666 percent\n",
      "test error  =  8.109999895095825 percent\n",
      " \n",
      "epoch= 160 \t time= 67.34268689155579 \t loss= 0.292704808562994 \t error= 8.123333136240642 percent\n",
      "test error  =  8.079999804496765 percent\n",
      " \n",
      "epoch= 170 \t time= 71.5693769454956 \t loss= 0.2911638369162877 \t error= 8.07999978462855 percent\n",
      "test error  =  7.969999909400941 percent\n",
      " \n",
      "epoch= 180 \t time= 75.76448202133179 \t loss= 0.28970643286903697 \t error= 8.048333048820496 percent\n",
      "test error  =  7.9899996519088745 percent\n",
      " \n",
      "epoch= 190 \t time= 79.88374996185303 \t loss= 0.2883746096988519 \t error= 7.996666530768076 percent\n",
      "test error  =  7.93999981880188 percent\n"
     ]
    }
   ],
   "source": [
    "start = time.time()\n",
    "\n",
    "for epoch in range(200):\n",
    "    \n",
    "    running_loss=0\n",
    "    running_error=0\n",
    "    num_batches=0\n",
    "    \n",
    "    shuffled_indices=torch.randperm(60000)\n",
    " \n",
    "    for count in range(0,60000,bs):\n",
    "        \n",
    "        # forward and backward pass\n",
    "    \n",
    "        optimizer.zero_grad()\n",
    "        \n",
    "        indices=shuffled_indices[count:count+bs]\n",
    "        minibatch_data =  train_data[indices]\n",
    "        minibatch_label= train_label[indices]\n",
    "\n",
    "        inputs = minibatch_data.view(bs,784)\n",
    "\n",
    "        inputs.requires_grad_()\n",
    "\n",
    "        scores=net( inputs ) \n",
    "\n",
    "        loss =  criterion( scores , minibatch_label) \n",
    "        \n",
    "        loss.backward()\n",
    "\n",
    "        optimizer.step()\n",
    "        \n",
    "        \n",
    "        # compute some stats\n",
    "        \n",
    "        running_loss += loss.detach().item()\n",
    "               \n",
    "        error = utils.get_error( scores.detach() , minibatch_label)\n",
    "        running_error += error.item()\n",
    "        \n",
    "        num_batches+=1\n",
    "    \n",
    "    \n",
    "    # once the epoch is finished we divide the \"running quantities\"\n",
    "    # by the number of batches\n",
    "    \n",
    "    total_loss = running_loss/num_batches\n",
    "    total_error = running_error/num_batches\n",
    "    elapsed_time = time.time() - start\n",
    "    \n",
    "    # every 10 epoch we display the stats \n",
    "    # and compute the error rate on the test set  \n",
    "    \n",
    "    if epoch % 10 == 0 : \n",
    "    \n",
    "        print(' ')\n",
    "        \n",
    "        print('epoch=',epoch, '\\t time=', elapsed_time,\n",
    "              '\\t loss=', total_loss , '\\t error=', total_error*100 ,'percent')\n",
    "        \n",
    "        eval_on_test_set()\n",
    "               "
   ]
  },
  {
   "cell_type": "markdown",
   "metadata": {},
   "source": [
    "### Choose image at random from the test set and see how good/bad are the predictions"
   ]
  },
  {
   "cell_type": "code",
   "execution_count": 8,
   "metadata": {},
   "outputs": [
    {
     "data": {
      "image/png": "[encoded data removed]",
      "text/plain": [
       "<matplotlib.figure.Figure at 0x10af23e48>"
      ]
     },
     "metadata": {},
     "output_type": "display_data"
    },
    {
     "data": {
      "image/png": "[encoded data removed]",
      "text/plain": [
       "<matplotlib.figure.Figure at 0x10af23e10>"
      ]
     },
     "metadata": {},
     "output_type": "display_data"
    }
   ],
   "source": [
    "# choose a picture at random\n",
    "idx=randint(0, 10000-1)\n",
    "im=test_data[idx]\n",
    "\n",
    "# diplay the picture\n",
    "utils.show(im)\n",
    "\n",
    "# feed it to the net and display the confidence scores\n",
    "scores =  net( im.view(1,784)) \n",
    "probs= F.softmax(scores, dim=1)\n",
    "utils.show_prob_mnist(probs)"
   ]
  },
  {
   "cell_type": "code",
   "execution_count": null,
   "metadata": {},
   "outputs": [],
   "source": []
  }
 ],
 "metadata": {
  "kernelspec": {
   "display_name": "Python 3",
   "language": "python",
   "name": "python3"
  },
  "language_info": {
   "codemirror_mode": {
    "name": "ipython",
    "version": 3
   },
   "file_extension": ".py",
   "mimetype": "text/x-python",
   "name": "python",
   "nbconvert_exporter": "python",
   "pygments_lexer": "ipython3",
   "version": "3.6.6"
  }
 },
 "nbformat": 4,
 "nbformat_minor": 2
}
